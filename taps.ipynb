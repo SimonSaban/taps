{
 "cells": [
  {
   "cell_type": "markdown",
   "id": "49079bc7",
   "metadata": {},
   "source": [
    "# Overview\n",
    "There is a queue at a festival for people to fill up their water bottles. Your task is to calculate the total time required for each person to fill up their water bottle.\n",
    "\n",
    "### Requirement\n",
    "You’ll need to create a function that takes two inputs:\n",
    "1. An array of integers: which represents a queue of people, and each integer is the size of their water bottle in millilitres. For instance, the array of:\n",
    "[400, 750, 1000]\n",
    "represents a queue of three people, where the first person in the queue has a water bottle of 400ml,\n",
    "the second person in the queue has a water bottle of 750ml, and the last person in the queue has a\n",
    "water bottle of 1 litre.\n",
    "2. An integer: which represents the number of taps at the festival available for people to use for filling up their water bottles.\n",
    "This function should then return the total number of seconds that it takes for all people to have filled their water bottles.\n",
    "\n",
    "### Assumptions\n",
    "You must assume that as soon as one tap is free, the next person in the queue starts using that tap and that they cannot move to a different tap once they start filling their bottle. You must also assume that each tap flows at a rate of 100ml per second (e.g., a 1 litre bottle takes 10 seconds).\n"
   ]
  },
  {
   "cell_type": "code",
   "execution_count": 180,
   "id": "770b17aa",
   "metadata": {},
   "outputs": [],
   "source": [
    "def calculate_time(queue, number_of_taps):\n",
    "    \n",
    "    # initializes a list that represent the working taps and contain the time required to fill the current bottle at each tap \n",
    "    # initializes a time counter for the complete task\n",
    "    taps = [0]*number_of_taps\n",
    "    time = 0\n",
    "    \n",
    "    # the algorithm goes through all bottles until none are left in the queue\n",
    "    # the same logic applies for assigning a bottle to a tap irrespective of whether all taps are availble (like at the begining of the task) or only one of them is available (as the task is in progress)\n",
    "    while queue:\n",
    "        \n",
    "        # finds the bottle that requires the least anmount of time to fill and the tap index for it\n",
    "        fastest_to_fill = min(taps)\n",
    "        tap_index = taps.index(fastest_to_fill)\n",
    "        \n",
    "        # deducts that time from all other bottles that are currently being filled by other taps \n",
    "        taps = [time_to_fill - fastest_to_fill for time_to_fill in taps]\n",
    "        \n",
    "        # adds that time to the total time counter of the task\n",
    "        time+= fastest_to_fill\n",
    "        \n",
    "        # assigns the time to fill the next bottle in the queue to the tap that became available\n",
    "        # this is also the part of the code that will prevent an infinite loop\n",
    "        taps[tap_index] = queue.pop(0)/100\n",
    "    \n",
    "    # once no bottles are left in the queue, we find amongst those that are still being filled the one that would take the longest time and add it to the time counter to get the total time for the task \n",
    "    time+= max(taps)\n",
    "    return time\n",
    "\n",
    "    "
   ]
  },
  {
   "cell_type": "markdown",
   "id": "6c3f5530-7d9c-41ca-a011-16ec84e3c7c1",
   "metadata": {},
   "source": [
    "##### Some test cases"
   ]
  },
  {
   "cell_type": "code",
   "execution_count": 181,
   "id": "4bcdcba8-3b83-4425-8105-eafdf712f4e6",
   "metadata": {},
   "outputs": [
    {
     "data": {
      "text/plain": [
       "10.0"
      ]
     },
     "execution_count": 181,
     "metadata": {},
     "output_type": "execute_result"
    }
   ],
   "source": [
    "calculate_time([500, 500, 500, 500, 500, 500], 3)"
   ]
  },
  {
   "cell_type": "code",
   "execution_count": 182,
   "id": "8bfcb757-5f7d-4287-8e88-b88ba7e94126",
   "metadata": {},
   "outputs": [
    {
     "data": {
      "text/plain": [
       "15.0"
      ]
     },
     "execution_count": 182,
     "metadata": {},
     "output_type": "execute_result"
    }
   ],
   "source": [
    "calculate_time([500, 500, 500, 500, 500, 500], 2)"
   ]
  },
  {
   "cell_type": "code",
   "execution_count": 183,
   "id": "a9387c48-e3f1-4642-8be8-48a0eb5460c1",
   "metadata": {},
   "outputs": [
    {
     "data": {
      "text/plain": [
       "2.0"
      ]
     },
     "execution_count": 183,
     "metadata": {},
     "output_type": "execute_result"
    }
   ],
   "source": [
    "calculate_time([100, 100, 100, 100, 100, 100], 4)"
   ]
  },
  {
   "cell_type": "markdown",
   "id": "0c649375-1703-461a-827a-6a9a1579d108",
   "metadata": {},
   "source": [
    "##### Same bottles in the queue but in differet order"
   ]
  },
  {
   "cell_type": "code",
   "execution_count": 184,
   "id": "2fad3331-db02-460e-bd39-cc4d66a54e9e",
   "metadata": {},
   "outputs": [
    {
     "data": {
      "text/plain": [
       "13.0"
      ]
     },
     "execution_count": 184,
     "metadata": {},
     "output_type": "execute_result"
    }
   ],
   "source": [
    "calculate_time([400, 500, 300, 750, 250, 800], 3)"
   ]
  },
  {
   "cell_type": "code",
   "execution_count": 185,
   "id": "fe7c5b22-1600-4721-87f7-1fac91276397",
   "metadata": {},
   "outputs": [
    {
     "data": {
      "text/plain": [
       "14.5"
      ]
     },
     "execution_count": 185,
     "metadata": {},
     "output_type": "execute_result"
    }
   ],
   "source": [
    "calculate_time([400, 750, 300, 500, 250, 800], 3)"
   ]
  },
  {
   "cell_type": "code",
   "execution_count": 197,
   "id": "61bf78fe-21b4-43fd-80cf-aebaf41891e5",
   "metadata": {},
   "outputs": [
    {
     "data": {
      "text/plain": [
       "14.0"
      ]
     },
     "execution_count": 197,
     "metadata": {},
     "output_type": "execute_result"
    }
   ],
   "source": [
    "calculate_time([400, 300, 800, 500, 250, 750], 3)"
   ]
  },
  {
   "cell_type": "markdown",
   "id": "5605c7ca-b78f-4cf0-9489-33d1e4f8a971",
   "metadata": {},
   "source": [
    "- As we can see from the above examples the order of the bottles in the queue matters and affects the overall time to complete the task"
   ]
  },
  {
   "cell_type": "markdown",
   "id": "7035dce0-94a6-47a9-a0f2-45a34587369d",
   "metadata": {},
   "source": [
    "##### What if we tried to sort the bottles in the queue?"
   ]
  },
  {
   "cell_type": "code",
   "execution_count": 188,
   "id": "718ccd12-1d44-4e5a-b58c-66dee56d0353",
   "metadata": {},
   "outputs": [
    {
     "name": "stdout",
     "output_type": "stream",
     "text": [
      "[250, 300, 400, 500, 750, 800]\n"
     ]
    },
    {
     "data": {
      "text/plain": [
       "12.0"
      ]
     },
     "execution_count": 188,
     "metadata": {},
     "output_type": "execute_result"
    }
   ],
   "source": [
    "queue = [800, 750, 300, 500, 250, 400]\n",
    "print(sorted(queue))\n",
    "calculate_time(queue, 3)\n"
   ]
  },
  {
   "cell_type": "code",
   "execution_count": 189,
   "id": "945ade02-cbcb-4c3f-a7b4-7a3891442eb3",
   "metadata": {},
   "outputs": [
    {
     "name": "stdout",
     "output_type": "stream",
     "text": [
      "[800, 750, 500, 400, 300, 250]\n"
     ]
    },
    {
     "data": {
      "text/plain": [
       "12.0"
      ]
     },
     "execution_count": 189,
     "metadata": {},
     "output_type": "execute_result"
    }
   ],
   "source": [
    "queue = [800, 750, 300, 500, 250, 400]\n",
    "print(sorted(queue, reverse = True))\n",
    "calculate_time(queue, 3)\n"
   ]
  },
  {
   "cell_type": "markdown",
   "id": "054aba32-8ab3-4b23-a8d1-f31daa133ee5",
   "metadata": {},
   "source": [
    "- It does seem to somewhat improve the time, however, as we can see in the next examples sorting the list isn't necessairly going to achieve the most efficient time  "
   ]
  },
  {
   "cell_type": "code",
   "execution_count": 186,
   "id": "47ccdaae-565f-41fa-a793-1ed9d334d4e6",
   "metadata": {},
   "outputs": [
    {
     "data": {
      "text/plain": [
       "11.5"
      ]
     },
     "execution_count": 186,
     "metadata": {},
     "output_type": "execute_result"
    }
   ],
   "source": [
    "calculate_time([800, 750, 500, 250, 300, 400], 3)"
   ]
  },
  {
   "cell_type": "code",
   "execution_count": 192,
   "id": "1fd2cf47-d604-4ccf-97d5-f4552006d98a",
   "metadata": {},
   "outputs": [
    {
     "data": {
      "text/plain": [
       "11.5"
      ]
     },
     "execution_count": 192,
     "metadata": {},
     "output_type": "execute_result"
    }
   ],
   "source": [
    "calculate_time([300, 750, 800, 500, 400, 250], 3)"
   ]
  },
  {
   "cell_type": "markdown",
   "id": "e36d66aa-6772-47b1-b479-2640ed4302b9",
   "metadata": {},
   "source": [
    "- The most efficient time is a result of taps being switched off (i.e. all bottles are filled) as close as possible to one another. The closer we are to that scenario, the shorter the time gets  "
   ]
  },
  {
   "cell_type": "markdown",
   "id": "61a61b94",
   "metadata": {},
   "source": [
    "### Bonus Points\n",
    "Extra consideration will be given to candidates who complete the bonus points below:\n"
   ]
  },
  {
   "cell_type": "markdown",
   "id": "e014ac6e",
   "metadata": {},
   "source": [
    "#### Input validation\n",
    "To stop someone using your function incorrectly, you should validate the inputs to the function and throw an error if they fail your validation.\n"
   ]
  },
  {
   "cell_type": "code",
   "execution_count": 143,
   "id": "0a5a79d0",
   "metadata": {},
   "outputs": [],
   "source": [
    "# input validation function\n",
    "def validate_input(queue, number_of_taps):\n",
    "    \n",
    "    # input validation starts with the number of taps, which has to be an integer number. an apropriate message will be displayed to the user in case it isn't  \n",
    "    try:\n",
    "         assert type(number_of_taps) == int\n",
    "    except AssertionError:\n",
    "        print(f\"number of taps has to be an integer number, {number_of_taps} is not\")\n",
    "        return False\n",
    "\n",
    "    # validation continues to ensure the number of taps is positive too. an apropriate message will be displayed to the user in case it isn't  \n",
    "    try:\n",
    "        assert number_of_taps > 0\n",
    "    except AssertionError:\n",
    "        print(f\"number of taps has to be a positive number, {number_of_taps} is not\")\n",
    "        return False\n",
    "\n",
    "    # validation moves to the queue input. Since the expected parameter here is a list, we need to ensure the user input matches the expected type\n",
    "    try:\n",
    "        assert type(queue) == list\n",
    "    except AssertionError:\n",
    "        print(f\"the first input parameter must be of type list, {queue} is not\")\n",
    "        return False\n",
    "\n",
    "    # once we established queue is a list, we will validate its content \n",
    "    for item in queue:\n",
    "\n",
    "        # just like with validating the number of taps, the input for each bottle in the queue has to be an integer number \n",
    "        try:\n",
    "            assert type(item) == int\n",
    "        except AssertionError:\n",
    "            print(f\"all items in the queue must be of integer type {item} is not\")\n",
    "            return False\n",
    "\n",
    "        # and it must also be positive\n",
    "        try:\n",
    "            assert item > 0\n",
    "        except AssertionError:\n",
    "            print(f\"all items in the queue must be a positive number {item} is not\")\n",
    "            return False\n",
    "    return True\n",
    "\n",
    "def calculate_time1(queue, number_of_taps):\n",
    "    \n",
    "    # validation takes place and only valid input will get to be executed by the rest of the function\n",
    "    if not(validate_input(queue, number_of_taps)):\n",
    "        return\n",
    "    \n",
    "    taps = [0]*number_of_taps\n",
    "    time = 0\n",
    "    while queue:\n",
    "        fastest_to_fill = min(taps)\n",
    "        tap_index = taps.index(fastest_to_fill)\n",
    "        taps = [time_to_fill - fastest_to_fill for time_to_fill in taps]\n",
    "        time+= fastest_to_fill\n",
    "        taps[tap_index] = queue.pop(0)/100\n",
    "    time+= max(taps)\n",
    "    return time"
   ]
  },
  {
   "cell_type": "markdown",
   "id": "fa82b29f-b170-45fd-80ec-ce7d982e5c34",
   "metadata": {},
   "source": [
    "##### Input validation test cases"
   ]
  },
  {
   "cell_type": "code",
   "execution_count": 144,
   "id": "d919fd76-f77a-43e3-a92d-9ca3a1d0b219",
   "metadata": {},
   "outputs": [
    {
     "name": "stdout",
     "output_type": "stream",
     "text": [
      "all items in the queue must be of integer type a is not\n"
     ]
    }
   ],
   "source": [
    "calculate_time2([400, 'a', 300, 750, 250, 800], 3)"
   ]
  },
  {
   "cell_type": "code",
   "execution_count": 145,
   "id": "4066f3f2-58a9-404c-aac0-457c7d6361db",
   "metadata": {},
   "outputs": [
    {
     "name": "stdout",
     "output_type": "stream",
     "text": [
      "all items in the queue must be a positive number -300 is not\n"
     ]
    }
   ],
   "source": [
    "calculate_time2([400, 500, -300, 750, 250, 800], 3)"
   ]
  },
  {
   "cell_type": "code",
   "execution_count": 146,
   "id": "dbd9631a-93cc-4f25-bd3f-772e7e9c3254",
   "metadata": {},
   "outputs": [
    {
     "name": "stdout",
     "output_type": "stream",
     "text": [
      "all items in the queue must be of integer type 500.7 is not\n"
     ]
    }
   ],
   "source": [
    "calculate_time2([400, 500.7, 300, 750, 250, 800], 3)"
   ]
  },
  {
   "cell_type": "code",
   "execution_count": 147,
   "id": "b9b2fc4b-33ad-487a-89e8-56503c98335a",
   "metadata": {},
   "outputs": [
    {
     "name": "stdout",
     "output_type": "stream",
     "text": [
      "number of taps has to be an integer number, # is not\n"
     ]
    }
   ],
   "source": [
    "calculate_time2([400, 500, 300, 750, 250, 800], '#')"
   ]
  },
  {
   "cell_type": "code",
   "execution_count": 148,
   "id": "6475f4f9-76c9-4b84-af19-3bdf4ca56ba2",
   "metadata": {},
   "outputs": [
    {
     "name": "stdout",
     "output_type": "stream",
     "text": [
      "number of taps has to be a positive number, 0 is not\n"
     ]
    }
   ],
   "source": [
    "calculate_time2([400, 500, 300, 750, 250, 800], 0)"
   ]
  },
  {
   "cell_type": "code",
   "execution_count": 149,
   "id": "9e7eb33a-6967-4007-930c-29d9f0c597e6",
   "metadata": {},
   "outputs": [
    {
     "data": {
      "text/plain": [
       "0"
      ]
     },
     "execution_count": 149,
     "metadata": {},
     "output_type": "execute_result"
    }
   ],
   "source": [
    "calculate_time2([], 3)"
   ]
  },
  {
   "cell_type": "markdown",
   "id": "55aea460",
   "metadata": {},
   "source": [
    "#### Time to walk to tap\n",
    "In the original challenge, we assumed that one person starts filling their water bottle as soon as the previous person finished. In reality this wouldn’t happen, since it takes time for each person to walk to the tap and open their bottle etc. You should write another function (which adapts your previous one slightly) which assumes that it takes a fixed amount of time (e.g., 2 seconds or 5 seconds) for each person to walk from the queue to the tap. (You may either assume that the initial people start at the tap, or they start at the queue and have to\n",
    "walk to the tap. Either is fine.)\n"
   ]
  },
  {
   "cell_type": "code",
   "execution_count": 139,
   "id": "571b2cc3",
   "metadata": {},
   "outputs": [],
   "source": [
    "def calculate_time2(queue, number_of_taps):\n",
    "    \n",
    "    if not (validate_input(queue,number_of_taps)):\n",
    "        return\n",
    "\n",
    "    # initialize the fixed time it takes to walk to a tap (could be any given number of seconds, 5 seconds were used as an example)\n",
    "    # it's also possible to have that as an input variable taken by the function, in which case we will have to validate it as numeric & positive (can be float)\n",
    "    walk_to_tap_time = 5\n",
    "        \n",
    "    taps = [0]*number_of_taps\n",
    "    time = 0\n",
    "    while queue:\n",
    "        fastest_to_fill = min(taps)\n",
    "        tap_index = taps.index(fastest_to_fill)\n",
    "        taps = [time_to_fill - fastest_to_fill for time_to_fill in taps]\n",
    "        time+= fastest_to_fill\n",
    "        \n",
    "        # add walk to tap time to the time it takes to fill each bottle\n",
    "        taps[tap_index] = queue.pop(0)/100 + walk_to_tap_time\n",
    "        \n",
    "    time+= max(taps)\n",
    "    return time\n"
   ]
  },
  {
   "cell_type": "code",
   "execution_count": 140,
   "id": "a7f1ff03-e0a9-432d-9f60-815e2d8dbb68",
   "metadata": {},
   "outputs": [
    {
     "data": {
      "text/plain": [
       "23.0"
      ]
     },
     "execution_count": 140,
     "metadata": {},
     "output_type": "execute_result"
    }
   ],
   "source": [
    "calculate_time2([400, 500, 300, 750, 250, 800], 3)"
   ]
  },
  {
   "cell_type": "markdown",
   "id": "65e11719",
   "metadata": {},
   "source": [
    "#### Different flow rates of taps\n",
    "In the original challenge, we assumed that each tap flows at a rate of 100ml per second. In reality, different taps might have more water pressure than others. You should write another function (which adapts your previous one slightly) to take account of the fact that different taps may flow at different rates (e.g., the first tap flows at 50ml per second while the second tap flows at 200ml per second). You should still assume that each person uses the first available tap."
   ]
  },
  {
   "cell_type": "code",
   "execution_count": 275,
   "id": "bddf54d5",
   "metadata": {},
   "outputs": [],
   "source": [
    "# validation changes, both parameters are expected to be lists that contain the same type of input - positive integer numbers\n",
    "# so we can pass both inputs in a list, and perform the same check for each of them\n",
    "def validate_input2(input_lists):\n",
    " \n",
    "    for input_list in input_lists:\n",
    "        try:\n",
    "            assert type(input_list) == list\n",
    "        except AssertionError:\n",
    "            print(f\"both input parameters must be of type list, {input_list} is not\")\n",
    "            return False\n",
    "\n",
    "        # it's important here to ensure the lists aren't empty \n",
    "        # there's no point for writing this function if there are no bottles in the queue or no taps to fill them\n",
    "        try:\n",
    "            assert len(input_list) > 0\n",
    "        except AssertionError: \n",
    "            print(f\"both input parameters cannot be empty. {input_list} is not an accepted input\")\n",
    "            return False\n",
    "        \n",
    "        for item in input_list:\n",
    "            try:\n",
    "                assert type(item) == int\n",
    "            except AssertionError:\n",
    "                print(f\"input items in all lists must be of integer type {item} is not\")\n",
    "                return False\n",
    "                \n",
    "            try:\n",
    "                assert item > 0\n",
    "            except AssertionError:\n",
    "                print(f\"input items in all lists must be a positive number {item} is not\")\n",
    "                return False\n",
    "    return True\n",
    "\n",
    "\n",
    "# assuming different flow rates for each tap the function would now take a list of flow rates each one represents a tap   \n",
    "def calculate_time3(queue, taps_flow_rate):\n",
    "    \n",
    "    if not (validate_input2([queue, taps_flow_rate])):\n",
    "        return\n",
    "    \n",
    "    walk_to_tap_time = 5\n",
    "\n",
    "    # the number of taps is inferred by the length of the flow rates list\n",
    "    taps = [0]*len(taps_flow_rate)\n",
    "    \n",
    "    time = 0\n",
    "    while queue:\n",
    "        fastest_to_fill = min(taps)\n",
    "        tap_index = taps.index(fastest_to_fill)\n",
    "        taps = [time_to_fill - fastest_to_fill for time_to_fill in taps]\n",
    "        time+= fastest_to_fill\n",
    "\n",
    "        # account for the tap flow rate instead of the fixed rate of 100ml per second\n",
    "        taps[tap_index] = queue.pop(0)/taps_flow_rate[tap_index] + walk_to_tap_time\n",
    "        print(time, taps) \n",
    "    time+= max(taps)\n",
    "    return time"
   ]
  },
  {
   "cell_type": "markdown",
   "id": "ab3eeca8-4821-4383-aa17-e6bb75cb967d",
   "metadata": {},
   "source": [
    "##### Input validation test cases"
   ]
  },
  {
   "cell_type": "code",
   "execution_count": 56,
   "id": "cd898aa2-ead2-408e-bb2b-d02b10bc8023",
   "metadata": {},
   "outputs": [
    {
     "name": "stdout",
     "output_type": "stream",
     "text": [
      "both input parameters cannot be empty. [] is not an accepted input\n"
     ]
    }
   ],
   "source": [
    "calculate_time3([400, 500, 300, 750, 250, 800], [])"
   ]
  },
  {
   "cell_type": "code",
   "execution_count": 209,
   "id": "3b93892c-fd6b-4675-9572-4fd2cf25f13e",
   "metadata": {},
   "outputs": [
    {
     "name": "stdout",
     "output_type": "stream",
     "text": [
      "both input parameters must be of type list, 9 is not\n"
     ]
    }
   ],
   "source": [
    "calculate_time3([400, 500, 300, 750, 250, 800], 9)"
   ]
  },
  {
   "cell_type": "code",
   "execution_count": 210,
   "id": "4f5fa840-fa4b-449e-b23b-b3fdbe6c48bf",
   "metadata": {},
   "outputs": [
    {
     "name": "stdout",
     "output_type": "stream",
     "text": [
      "input items in all lists must be a positive number -70 is not\n"
     ]
    }
   ],
   "source": [
    "calculate_time3([400, 500, -70, 750, 250, 800], [])"
   ]
  },
  {
   "cell_type": "code",
   "execution_count": 211,
   "id": "3bfcf2e1-036d-4009-adc4-801faeb264aa",
   "metadata": {},
   "outputs": [
    {
     "name": "stdout",
     "output_type": "stream",
     "text": [
      "input items in all lists must be of integer type a is not\n"
     ]
    }
   ],
   "source": [
    "calculate_time3([400, 500, 170, 750, 250, 800], ['a','b'])"
   ]
  },
  {
   "cell_type": "code",
   "execution_count": 212,
   "id": "02b6b709-b33c-450b-addd-22fe107afabe",
   "metadata": {},
   "outputs": [
    {
     "name": "stdout",
     "output_type": "stream",
     "text": [
      "input items in all lists must be of integer type 78.09 is not\n"
     ]
    }
   ],
   "source": [
    "calculate_time3([400, 78.09, 300, 750, 250, 800], [4,5,6])"
   ]
  },
  {
   "cell_type": "markdown",
   "id": "e3f9f024-dc69-4ec1-af8f-ec7b6f411b41",
   "metadata": {},
   "source": [
    "#### Faster taps, slower time\n",
    "According to your function from bonus point 3 above, is it possible for your function to output a larger number (e.g., it takes longer to fill all the bottles) if you increase the flow rate of at least one of the taps (it takes less time to fill a bottle). If yes, find an example. If no, prove it"
   ]
  },
  {
   "cell_type": "markdown",
   "id": "bd813075-83cb-48af-aee9-8e7854736ce0",
   "metadata": {},
   "source": [
    "this is a case sceanrio that we've already seen earlier on"
   ]
  },
  {
   "cell_type": "code",
   "execution_count": 226,
   "id": "88d0d77c-41ab-4e46-a947-92654631f627",
   "metadata": {},
   "outputs": [
    {
     "data": {
      "text/plain": [
       "23.0"
      ]
     },
     "execution_count": 226,
     "metadata": {},
     "output_type": "execute_result"
    }
   ],
   "source": [
    "calculate_time3([400, 500, 300, 750, 250, 800], [100, 100, 100])"
   ]
  },
  {
   "cell_type": "markdown",
   "id": "1a2bf16e-05a8-4e44-8edd-ac669be08647",
   "metadata": {},
   "source": [
    "let's try to increase the flow rate of a tap and see what impact it has on the overall time..."
   ]
  },
  {
   "cell_type": "code",
   "execution_count": 227,
   "id": "1676b130-4832-42cc-9aab-40ffb937a8c8",
   "metadata": {},
   "outputs": [
    {
     "data": {
      "text/plain": [
       "23.0"
      ]
     },
     "execution_count": 227,
     "metadata": {},
     "output_type": "execute_result"
    }
   ],
   "source": [
    "calculate_time3([400, 500, 300, 750, 250, 800], [200, 100, 100])"
   ]
  },
  {
   "cell_type": "markdown",
   "id": "e5f3fc14-28a7-48b0-afee-f9cb29f1bd92",
   "metadata": {},
   "source": [
    "intuitively one might think that when a tap fills more water per second, it will have an impact and improve the overall time... not necessarily. what if we increased the flow rate further?"
   ]
  },
  {
   "cell_type": "code",
   "execution_count": 239,
   "id": "b800b66f-ae3a-4630-a7ce-085573d52fd9",
   "metadata": {},
   "outputs": [
    {
     "data": {
      "text/plain": [
       "23.0"
      ]
     },
     "execution_count": 239,
     "metadata": {},
     "output_type": "execute_result"
    }
   ],
   "source": [
    "calculate_time3([400, 500, 300, 750, 250, 800], [500, 100, 100])"
   ]
  },
  {
   "cell_type": "markdown",
   "id": "eca591d1-7bf6-41de-b631-5ba9ad4d36b0",
   "metadata": {},
   "source": [
    "the overall time still stays the same. maybe there's a tap that is more dominant for this task? what if we increase flow rate for a different tap?"
   ]
  },
  {
   "cell_type": "code",
   "execution_count": 231,
   "id": "d1ece684-4ed8-470b-bc72-cbcce8a3e1f9",
   "metadata": {},
   "outputs": [
    {
     "data": {
      "text/plain": [
       "23.0"
      ]
     },
     "execution_count": 231,
     "metadata": {},
     "output_type": "execute_result"
    }
   ],
   "source": [
    "calculate_time3([400, 500, 300, 750, 250, 800], [100, 100, 500])"
   ]
  },
  {
   "cell_type": "code",
   "execution_count": 274,
   "id": "70b117c0-223a-4bf6-9a90-77abdd4d50d8",
   "metadata": {},
   "outputs": [
    {
     "data": {
      "text/plain": [
       "20.5"
      ]
     },
     "execution_count": 274,
     "metadata": {},
     "output_type": "execute_result"
    }
   ],
   "source": [
    "calculate_time3([400, 500, 300, 750, 250, 800], [100, 125, 100])"
   ]
  },
  {
   "cell_type": "markdown",
   "id": "6ef554e7-4105-4027-ab30-aa3903f8c47e",
   "metadata": {},
   "source": [
    "increasing the flow rate of tap 3 isn't changing the overall time either, but increasing the flow rate of tap 2 ever so slightly (compared to the increases applied to the other two), seems to make a significant difference to the overall task time. let's see the taps in action- print statement added to show values stored in time and taps variables "
   ]
  },
  {
   "cell_type": "markdown",
   "id": "c7f51517-18dd-4db4-b5e8-b11772d95759",
   "metadata": {},
   "source": [
    "##### initial scenario all flow rates are the same"
   ]
  },
  {
   "cell_type": "code",
   "execution_count": 251,
   "id": "56894dd6-9e83-4a0f-9c55-8d812666d6d1",
   "metadata": {},
   "outputs": [
    {
     "name": "stdout",
     "output_type": "stream",
     "text": [
      "0 [9.0, 0, 0]\n",
      "0 [9.0, 10.0, 0]\n",
      "0 [9.0, 10.0, 8.0]\n",
      "8.0 [1.0, 2.0, 12.5]\n",
      "9.0 [7.5, 1.0, 11.5]\n",
      "10.0 [6.5, 13.0, 10.5]\n"
     ]
    },
    {
     "data": {
      "text/plain": [
       "23.0"
      ]
     },
     "execution_count": 251,
     "metadata": {},
     "output_type": "execute_result"
    }
   ],
   "source": [
    "calculate_time3([400, 500, 300, 750, 250, 800], [100, 100, 100])"
   ]
  },
  {
   "cell_type": "markdown",
   "id": "c0641c8b-5f1a-46cd-9ffa-6eace4f5a13d",
   "metadata": {},
   "source": [
    "##### Increasing flow rate of tap 1 to 500ml/s"
   ]
  },
  {
   "cell_type": "code",
   "execution_count": 258,
   "id": "cb213beb-2d79-4d3c-baa2-39bc5ba2d610",
   "metadata": {},
   "outputs": [
    {
     "name": "stdout",
     "output_type": "stream",
     "text": [
      "0 [5.8, 0, 0]\n",
      "0 [5.8, 10.0, 0]\n",
      "0 [5.8, 10.0, 8.0]\n",
      "5.8 [6.5, 4.2, 2.2]\n",
      "8.0 [4.3, 2.0, 7.5]\n",
      "10.0 [2.3, 13.0, 5.5]\n"
     ]
    },
    {
     "data": {
      "text/plain": [
       "23.0"
      ]
     },
     "execution_count": 258,
     "metadata": {},
     "output_type": "execute_result"
    }
   ],
   "source": [
    "calculate_time3([400, 500, 300, 750, 250, 800], [500, 100, 100])"
   ]
  },
  {
   "cell_type": "markdown",
   "id": "64539830-f59b-41e3-9348-8a42666c11d5",
   "metadata": {},
   "source": [
    "##### Increasing flow rate of tap 3 to 500ml/s"
   ]
  },
  {
   "cell_type": "code",
   "execution_count": 253,
   "id": "19471718-f65d-467f-a8c7-5f1b7d57486d",
   "metadata": {},
   "outputs": [
    {
     "name": "stdout",
     "output_type": "stream",
     "text": [
      "0 [9.0, 0, 0]\n",
      "0 [9.0, 10.0, 0]\n",
      "0 [9.0, 10.0, 5.6]\n",
      "5.6 [3.4000000000000004, 4.4, 6.5]\n",
      "9.0 [7.5, 1.0, 3.0999999999999996]\n",
      "10.0 [6.5, 13.0, 2.0999999999999996]\n"
     ]
    },
    {
     "data": {
      "text/plain": [
       "23.0"
      ]
     },
     "execution_count": 253,
     "metadata": {},
     "output_type": "execute_result"
    }
   ],
   "source": [
    "calculate_time3([400, 500, 300, 750, 250, 800], [100, 100, 500])"
   ]
  },
  {
   "cell_type": "markdown",
   "id": "48012ed2-3cd2-4ebc-a64b-091f583cd5c8",
   "metadata": {},
   "source": [
    "ok, so we can see that when we increased flow rates of taps 1 & 3 they did fill bottles quicker, but it's the 2nd tap that ended up with the last bottle from the queue and that takes 13 seconds at a rate of 100ml/s (5sec walk + 8sec fill). if we increase the flow rate of one of those taps to something exteremly large, in a way that reduces fill time of any bottle unrealistically to no time, only then it will change the allocation of the last bottle and then we could achieve a faster time"
   ]
  },
  {
   "cell_type": "markdown",
   "id": "b53e3871-f7f1-4c39-b1e2-f3ca45eadbba",
   "metadata": {},
   "source": [
    "##### Increasing flow rate of tap 1 to 5000ml/s"
   ]
  },
  {
   "cell_type": "code",
   "execution_count": 259,
   "id": "749a1f3c-8b83-452f-9e13-4fe273e8a0f9",
   "metadata": {},
   "outputs": [
    {
     "name": "stdout",
     "output_type": "stream",
     "text": [
      "0 [5.08, 0, 0]\n",
      "0 [5.08, 10.0, 0]\n",
      "0 [5.08, 10.0, 8.0]\n",
      "5.08 [5.15, 4.92, 2.92]\n",
      "8.0 [2.2300000000000004, 2.0, 7.5]\n",
      "10.0 [0.23000000000000043, 13.0, 5.5]\n"
     ]
    },
    {
     "data": {
      "text/plain": [
       "23.0"
      ]
     },
     "execution_count": 259,
     "metadata": {},
     "output_type": "execute_result"
    }
   ],
   "source": [
    "calculate_time3([400, 500, 300, 750, 250, 800], [5000, 100, 100])"
   ]
  },
  {
   "cell_type": "markdown",
   "id": "e0ac8c67-6637-428d-9d9b-f1fd068890ef",
   "metadata": {},
   "source": [
    "##### Increasing flow rate of tap 1 to 500,000,000,000,000,000ml/s (!)"
   ]
  },
  {
   "cell_type": "code",
   "execution_count": 267,
   "id": "b24f247a-df0a-41b6-adc6-569ea60e3d08",
   "metadata": {},
   "outputs": [
    {
     "name": "stdout",
     "output_type": "stream",
     "text": [
      "0 [5.000000000000001, 0, 0]\n",
      "0 [5.000000000000001, 10.0, 0]\n",
      "0 [5.000000000000001, 10.0, 8.0]\n",
      "5.000000000000001 [5.000000000000002, 4.999999999999999, 2.999999999999999]\n",
      "8.0 [2.0000000000000027, 2.0, 7.5]\n",
      "10.0 [2.6645352591003757e-15, 13.0, 5.5]\n"
     ]
    },
    {
     "data": {
      "text/plain": [
       "23.0"
      ]
     },
     "execution_count": 267,
     "metadata": {},
     "output_type": "execute_result"
    }
   ],
   "source": [
    "calculate_time3([400, 500, 300, 750, 250, 800], [500000000000000000, 100, 100])"
   ]
  },
  {
   "cell_type": "markdown",
   "id": "2039a645-e849-448b-8261-e46d64c066fc",
   "metadata": {},
   "source": [
    "##### Increasing flow rate of tap 1 to 5,000,000,000,000,000,000ml/s (!!!)"
   ]
  },
  {
   "cell_type": "code",
   "execution_count": 266,
   "id": "fff1b205-7e76-4a01-a707-f94475d9cae7",
   "metadata": {},
   "outputs": [
    {
     "name": "stdout",
     "output_type": "stream",
     "text": [
      "0 [5.0, 0, 0]\n",
      "0 [5.0, 10.0, 0]\n",
      "0 [5.0, 10.0, 8.0]\n",
      "5.0 [5.0, 5.0, 3.0]\n",
      "8.0 [2.0, 2.0, 7.5]\n",
      "10.0 [5.0, 0.0, 5.5]\n"
     ]
    },
    {
     "data": {
      "text/plain": [
       "15.5"
      ]
     },
     "execution_count": 266,
     "metadata": {},
     "output_type": "execute_result"
    }
   ],
   "source": [
    "calculate_time3([400, 500, 300, 750, 250, 800], [5000000000000000000, 100, 100])"
   ]
  },
  {
   "cell_type": "markdown",
   "id": "a3cf4adb-f5a8-49e6-803c-0ac274cc0bf2",
   "metadata": {},
   "source": [
    "it had to take that many zeros! and i don't even know the name for a number followed by 18 zeros"
   ]
  },
  {
   "cell_type": "markdown",
   "id": "6de6eec7-d1e1-49b2-9414-ac84c9a7f70f",
   "metadata": {},
   "source": [
    "that was kinda fun, but now let's go back to our 2nd tap- the interesting one in this case..."
   ]
  },
  {
   "cell_type": "code",
   "execution_count": 270,
   "id": "6bbb7f82-ff4b-4b32-9d98-8c8bd07712fd",
   "metadata": {},
   "outputs": [
    {
     "name": "stdout",
     "output_type": "stream",
     "text": [
      "0 [9.0, 0, 0]\n",
      "0 [9.0, 9.0, 0]\n",
      "0 [9.0, 9.0, 8.0]\n",
      "8.0 [1.0, 1.0, 12.5]\n",
      "9.0 [7.5, 0.0, 11.5]\n",
      "9.0 [7.5, 11.4, 11.5]\n"
     ]
    },
    {
     "data": {
      "text/plain": [
       "20.5"
      ]
     },
     "execution_count": 270,
     "metadata": {},
     "output_type": "execute_result"
    }
   ],
   "source": [
    "calculate_time3([400, 500, 300, 750, 250, 800], [100, 125, 100])"
   ]
  },
  {
   "cell_type": "markdown",
   "id": "307fa381-f4ac-43b2-8ef7-e5663cd643d3",
   "metadata": {},
   "source": [
    "increasing the flow by only an additional 25ml per second acheives a scenario, whereby compared to the original scenario, we have less idle time towards completion. <br><b>the closer idle time is to 0, the more productive each tap is and the faster the task will complete.</b> "
   ]
  },
  {
   "cell_type": "markdown",
   "id": "13d03a8b-db8d-441d-a86b-6d75a072ef35",
   "metadata": {},
   "source": [
    "what happens if we increase the flow rate of tap no. 2 further? is there a scenario that will achieve a longer time at a higher flow rate?"
   ]
  },
  {
   "cell_type": "code",
   "execution_count": 271,
   "id": "97499a06-dda4-4c38-a1fc-fcf1ef61aa2e",
   "metadata": {},
   "outputs": [
    {
     "name": "stdout",
     "output_type": "stream",
     "text": [
      "0 [9.0, 0, 0]\n",
      "0 [9.0, 7.5, 0]\n",
      "0 [9.0, 7.5, 8.0]\n",
      "7.5 [1.5, 8.75, 0.5]\n",
      "8.0 [1.0, 8.25, 7.5]\n",
      "9.0 [13.0, 7.25, 6.5]\n"
     ]
    },
    {
     "data": {
      "text/plain": [
       "22.0"
      ]
     },
     "execution_count": 271,
     "metadata": {},
     "output_type": "execute_result"
    }
   ],
   "source": [
    "calculate_time3([400, 500, 300, 750, 250, 800], [100, 200, 100])"
   ]
  },
  {
   "cell_type": "code",
   "execution_count": 272,
   "id": "786a878e-725f-4646-9f73-11b62a5d09c7",
   "metadata": {},
   "outputs": [
    {
     "name": "stdout",
     "output_type": "stream",
     "text": [
      "0 [9.0, 0, 0]\n",
      "0 [9.0, 6.0, 0]\n",
      "0 [9.0, 6.0, 8.0]\n",
      "6.0 [3.0, 6.5, 2.0]\n",
      "8.0 [1.0, 4.5, 7.5]\n",
      "9.0 [13.0, 3.5, 6.5]\n"
     ]
    },
    {
     "data": {
      "text/plain": [
       "22.0"
      ]
     },
     "execution_count": 272,
     "metadata": {},
     "output_type": "execute_result"
    }
   ],
   "source": [
    "calculate_time3([400, 500, 300, 750, 250, 800], [100, 500, 100])"
   ]
  },
  {
   "cell_type": "markdown",
   "id": "0931c760-aadc-4e2a-aede-61f4fed55b3f",
   "metadata": {},
   "source": [
    "- somewhat counter intuitive, but the answer is apparently <b>yes!</b> incrasing the flow rate for tap 2 from 125ml/s to 200ml/s or even 500ml/s results in an additional 1.5 seconds to the overall time\n",
    "- as we can see at 125ml/s tap 2 with the highest capacity ends up as the one to fill the last bottle in the queue, and it's only idle for 0.1s while tap 1 is idle for 4 seconds\n",
    "- by increasing the flow rate of tap 2 further to 200ml/s or 500ml/s, tap 2 fills bottles quicker, the allocation of bottles from the queue to available taps changes, and it's tap 1 that ends up with the last bottle from the queue while the time of tap 2 (our best worker) is wasted as it's idle for nearly 6s or 10s respectively, meaning the workload ditribution isn't the most efficient and doesn't maximize the productivity of our taps"
   ]
  }
 ],
 "metadata": {
  "kernelspec": {
   "display_name": "Python 3 (ipykernel)",
   "language": "python",
   "name": "python3"
  },
  "language_info": {
   "codemirror_mode": {
    "name": "ipython",
    "version": 3
   },
   "file_extension": ".py",
   "mimetype": "text/x-python",
   "name": "python",
   "nbconvert_exporter": "python",
   "pygments_lexer": "ipython3",
   "version": "3.12.4"
  }
 },
 "nbformat": 4,
 "nbformat_minor": 5
}
